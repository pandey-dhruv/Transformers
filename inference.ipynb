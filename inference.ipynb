{
 "cells": [
  {
   "cell_type": "code",
   "execution_count": 1,
   "metadata": {},
   "outputs": [],
   "source": [
    "from pathlib import Path\n",
    "import torch\n",
    "import torch.nn\n",
    "from config import get_config, get_weights_file_path\n",
    "from train import get_model, get_ds, run_validation\n",
    "from IPython.display import clear_output\n",
    "clear_output()"
   ]
  },
  {
   "cell_type": "code",
   "execution_count": 2,
   "metadata": {},
   "outputs": [
    {
     "name": "stdout",
     "output_type": "stream",
     "text": [
      "Using device: cuda\n",
      "Max length of the source sentences: 471\n",
      "Max length of the target sentences: 482\n"
     ]
    },
    {
     "data": {
      "text/plain": [
       "<All keys matched successfully>"
      ]
     },
     "execution_count": 2,
     "metadata": {},
     "output_type": "execute_result"
    }
   ],
   "source": [
    "device = torch.device('cuda' if torch.cuda.is_available() else 'cpu')\n",
    "print(f'Using device: {device}')\n",
    "config = get_config()\n",
    "train_dataloader, val_dataloader, tokenizer_src, tokenizer_tgt = get_ds(config)\n",
    "model = get_model(config, tokenizer_src.get_vocab_size(), tokenizer_tgt.get_vocab_size()).to(device)\n",
    "\n",
    "#loading in the pretrained weights\n",
    "model_filename = get_weights_file_path(config, \"14\")\n",
    "state = torch.load(model_filename)\n",
    "model.load_state_dict(state['model_state_dict'])"
   ]
  },
  {
   "cell_type": "code",
   "execution_count": 3,
   "metadata": {},
   "outputs": [
    {
     "name": "stdout",
     "output_type": "stream",
     "text": [
      "82866534\n"
     ]
    }
   ],
   "source": [
    "total_params = sum(p.numel() for p in model.parameters())\n",
    "print(total_params)"
   ]
  },
  {
   "cell_type": "code",
   "execution_count": 6,
   "metadata": {},
   "outputs": [
    {
     "name": "stdout",
     "output_type": "stream",
     "text": [
      "--------------------------------------------------------------------------------\n",
      "SOURCE: \"I had much rather go in the coach.\"\n",
      "TARGET: – J’aimerais mieux y aller en voiture.\n",
      "PREDICTED: -- J ' aimerais beaucoup mieux aller dans la voiture .\n",
      "--------------------------------------------------------------------------------\n",
      "SOURCE: But this, Planchet, is so serious and important that I have not informed my friends that I would entrust this secret to you; and for a captain’s commission I would not write it.\"\n",
      "TARGET: Mais ceci, Planchet, vois-tu, c'est si grave et si important, que je n'ai pas même voulu avouer à mes amis que je te confierais ce secret, et que pour une commission de capitaine je ne voudrais pas te l'écrire.\n",
      "PREDICTED: Mais ceci , Planchet , est si grave et si important , que je ne devrais pas connaître mes amis que je ce secret à vous , et pour la commission du capitaine je ne voudrais pas écrire .»\n",
      "--------------------------------------------------------------------------------\n",
      "SOURCE: When we came to the tree, there was Friday got out to the small end of a large branch, and the bear got about half-way to him.\n",
      "TARGET: Quand nous arrivâmes, VENDREDI avait déjà gagné l'extrémité d'une grosse branche, et l'ours avait fait la moitié du chemin pour l'atteindre.\n",
      "PREDICTED: Quand nous arrivâmes à l ' arbre , il y avait Vendredi de l ' extrémité d ' une grosse branche , et l ' ours s ' avança jusqu ' à mi - chemin pour lui .\n",
      "--------------------------------------------------------------------------------\n",
      "SOURCE: Felton leaned for support upon a piece of furniture; and Milady saw, with the joy of a demon, that his strength would fail him perhaps before the end of her recital.\n",
      "TARGET: Felton s'appuyait sur un meuble, et Milady voyait avec une joie de démon que la force lui manquerait peut-être avant la fin du récit.\n",
      "PREDICTED: Felton s ' appuyait pour soutenir une pièce de meubles , et Milady vit , avec la joie d ' un démon , que la force lui manquerait peut - être au bout du récit .\n",
      "--------------------------------------------------------------------------------\n",
      "SOURCE: The simplest thing no doubt, would be to refusethe inheritance, which would then go to the poor, and to tell allfriends or acquaintances who had heard of the bequest that the willcontained clauses and conditions impossible to subscribe to, which wouldhave made Jean not inheritor but merely a trustee.\n",
      "TARGET: Le plus simple, assurément, serait de refuserl'héritage qui irait alors aux pauvres, et de dire seulement aux amis etconnaissances informés de ce legs que le testament contenait des clauseset conditions inacceptables qui auraient fait de Jean, non pas unhéritier, mais un dépositaire.\n",
      "PREDICTED: La plus simple , assurément , serait de ' héritage qui irait alors aux pauvres et de dire qui avait entendu dire de ou de que le testament contenait des conditions qui auraient voulu Jean , non pas , mais un homme courageux .\n",
      "--------------------------------------------------------------------------------\n",
      "SOURCE: There they found the gaoler standing in the doorway; a giant six feet tall, with bandy legs; terror had made his mean face hideous.\n",
      "TARGET: Là, ils trouvèrent sur la porte le geôlier, espèce de géant de six pieds de haut et à jambes arquées ; sa figure ignoble était devenue hideuse par l’effet de la terreur.\n",
      "PREDICTED: Là ils trouvèrent le geôlier à la porte ; un géant de six pieds de haut et à jambes ; sa figure hideuse était hideuse .\n",
      "--------------------------------------------------------------------------------\n",
      "SOURCE: Let me make my escape.\n",
      "TARGET: Laissez-moi me sauver.\n",
      "PREDICTED: Laissez - moi m ' échapper .\n",
      "--------------------------------------------------------------------------------\n",
      "SOURCE: He will have spoken of me in that tone in Verrieres; and, without going so far,' said Madame de Renal, with the air of one making a discovery, 'he will have spoken like that before Elisa, which is just as though he had spoken to M. Valenod.'\n",
      "TARGET: Il aura parlé de moi sur ce ton dans Verrières ;… et, sans aller si loin, dit Mme de Rênal, avec l’air de faire une découverte, il aura parlé ainsi devant Élisa, c’est à peu près comme s’il eût parlé devant M. Valenod.\n",
      "PREDICTED: Il aura parlé de moi dans ce ton dans Verrières , et , sans aller si loin , disait Mme de Rênal , avec l ’ air de faire découverte , il aura parlé ainsi devant Élisa , ce qui est aussi bien que s ’ il eût parlé à M . Valenod .\n",
      "--------------------------------------------------------------------------------\n",
      "SOURCE: As her father turned the corner of the church, Catherine perceived Chaval, and, hastening to join him, they took together the Montsou road.\n",
      "TARGET: Comme son pere tournait le coin de l'église, Catherine, qui aperçut Chaval, se hâta de le rejoindre, pour prendre avec lui la route de Montsou.\n",
      "PREDICTED: Comme son pere tournait le coin de l ' église , Catherine aperçut Chaval , qui , se hâta de le rejoindre , prit ensemble le chemin de Montsou .\n",
      "--------------------------------------------------------------------------------\n",
      "SOURCE: And he showed the cardinal, with his finger, the four muskets piled near the drum, on which were the cards and dice.\n",
      "TARGET: Et il montra du doigt au cardinal les quatre mousquets en faisceau près du tambour sur lequel étaient les cartes et les dés.\n",
      "PREDICTED: Et il montra le cardinal , avec son doigt , les quatre mousquets près du tambour , sur lequel étaient les cartes et les dés .\n"
     ]
    }
   ],
   "source": [
    "run_validation(model, val_dataloader, tokenizer_src, tokenizer_tgt, config['seq_len'], 'cuda', lambda msg: print(msg), 0, None, num_examples = 10)"
   ]
  },
  {
   "cell_type": "code",
   "execution_count": null,
   "metadata": {},
   "outputs": [],
   "source": []
  }
 ],
 "metadata": {
  "kernelspec": {
   "display_name": "pytorch",
   "language": "python",
   "name": "python3"
  },
  "language_info": {
   "codemirror_mode": {
    "name": "ipython",
    "version": 3
   },
   "file_extension": ".py",
   "mimetype": "text/x-python",
   "name": "python",
   "nbconvert_exporter": "python",
   "pygments_lexer": "ipython3",
   "version": "3.11.9"
  }
 },
 "nbformat": 4,
 "nbformat_minor": 2
}
